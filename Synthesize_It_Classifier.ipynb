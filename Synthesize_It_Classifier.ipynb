{
  "nbformat": 4,
  "nbformat_minor": 0,
  "metadata": {
    "colab": {
      "name": "Synthesize-It-Classifier.ipynb",
      "provenance": [],
      "collapsed_sections": [],
      "machine_shape": "hm",
      "authorship_tag": "ABX9TyO0bBjIvaRfCi/Rn293xlHR",
      "include_colab_link": true
    },
    "kernelspec": {
      "name": "python3",
      "display_name": "Python 3"
    },
    "language_info": {
      "name": "python"
    },
    "accelerator": "GPU"
  },
  "cells": [
    {
      "cell_type": "markdown",
      "metadata": {
        "id": "view-in-github",
        "colab_type": "text"
      },
      "source": [
        "<a href=\"https://colab.research.google.com/github/ArghyaPal/STIC/blob/main/Synthesize_It_Classifier.ipynb\" target=\"_parent\"><img src=\"https://colab.research.google.com/assets/colab-badge.svg\" alt=\"Open In Colab\"/></a>"
      ]
    },
    {
      "cell_type": "markdown",
      "metadata": {
        "id": "l6iAhMHRscmm"
      },
      "source": [
        "# Introduction\n",
        "In this work, we show the generative capability of an\n",
        "image classifier network by synthesizing high-resolution,\n",
        "photo-realistic, and diverse images at scale. The overall\n",
        "methodology, called Synthesize-It-Classifier (STIC), does\n",
        "not require an explicit generator network to estimate the\n",
        "density of the data distribution and sample images from\n",
        "that, but instead uses the classifier’s knowledge of the\n",
        "boundary to perform gradient ascent w.r.t. class logits and\n",
        "then synthesizes images using Langevin Algorithm by drawing on a\n",
        "blank canvas. During training, the classifier iteratively uses\n",
        "these synthesized images as fake samples and re-estimates\n",
        "the class boundary in a recurrent fashion to improve both\n",
        "the classification accuracy and quality of synthetic images.\n",
        "The STIC shows that mixing of the hard fake samples (i.e.\n",
        "those synthesized by the one hot class conditioning), and the\n",
        "soft fake samples (which are synthesized as a convex combination of classes, i.e. a mixup of classes) improves\n",
        "class interpolation. In this basic version we will demonstrate the work on CIFAR 10. \n",
        "\n",
        "**Note**:\n",
        "Please note that this basic version doesn't include (i) Gram Matrix corrected Langaving Dynamics, (ii) Attentive-STIC, (iii) Score-STIC. Enjoy the basic STIC!"
      ]
    },
    {
      "cell_type": "code",
      "metadata": {
        "id": "-SRFHy7wsT1z"
      },
      "source": [
        "import torch as t, torch.nn as nn, torch.nn.functional as tnnF, torch.distributions as tdist\n",
        "from torch.utils.data import DataLoader, Dataset\n",
        "import torchvision as tv, torchvision.transforms as tr\n",
        "import os\n",
        "import sys\n",
        "import argparse\n",
        "from stic import *\n",
        "from dataset import *\n",
        "from train import *\n",
        "import sampling\n",
        "import numpy as np\n",
        "\n",
        "t.backends.cudnn.benchmark = True\n",
        "t.backends.cudnn.enabled = True"
      ],
      "execution_count": null,
      "outputs": []
    },
    {
      "cell_type": "markdown",
      "metadata": {
        "id": "bsQ4jt7X7qMB"
      },
      "source": [
        "# Sample from the Classifier"
      ]
    },
    {
      "cell_type": "code",
      "metadata": {
        "colab": {
          "base_uri": "https://localhost:8080/",
          "height": 357
        },
        "id": "MJDHAbxctp-p",
        "outputId": "4da97562-4068-4c5f-dd7e-eef000a56ace"
      },
      "source": [
        "if __name__ == \"__main__\":\n",
        "    parser = argparse.ArgumentParser(\"Synthesize It Classifier\")\n",
        "    parser.add_argument(\"--dataset\", type=str, default=\"cifar10\", choices=[\"cifar10\", \"svhn\"])\n",
        "    parser.add_argument(\"--data_root\", type=str, default=\"./data\")\n",
        "    # optimization\n",
        "    parser.add_argument(\"--lr\", type=float, default=1e-4)\n",
        "    parser.add_argument(\"--decay_epochs\", nargs=\"+\", type=int, default=[160, 180],\n",
        "                        help=\"decay learning rate by decay_rate at these epochs\")\n",
        "    parser.add_argument(\"--decay_rate\", type=float, default=.3,\n",
        "                        help=\"learning rate decay multiplier\")\n",
        "    parser.add_argument(\"--clf_only\", action=\"store_true\", help=\"If set, then only train the classifier\")\n",
        "    parser.add_argument(\"--labels_per_class\", type=int, default=-1,\n",
        "                        help=\"number of labeled examples per class, if zero then use all labels\")\n",
        "    parser.add_argument(\"--optimizer\", choices=[\"adam\", \"sgd\"], default=\"adam\")\n",
        "    parser.add_argument(\"--batch_size\", type=int, default=64)\n",
        "    parser.add_argument(\"--n_epochs\", type=int, default=200)\n",
        "    parser.add_argument(\"--warmup_iters\", type=int, default=-1,\n",
        "                        help=\"number of iters to linearly increase learning rate, if -1 then no warmmup\")\n",
        "    # loss weighting\n",
        "    parser.add_argument(\"--p_x_weight\", type=float, default=1.)\n",
        "    parser.add_argument(\"--p_y_given_x_weight\", type=float, default=1.)\n",
        "    parser.add_argument(\"--p_x_y_weight\", type=float, default=0.)\n",
        "    # regularization\n",
        "    parser.add_argument(\"--dropout_rate\", type=float, default=0.0)\n",
        "    parser.add_argument(\"--sigma\", type=float, default=3e-2,\n",
        "                        help=\"stddev of gaussian noise to add to input, .03 works but .1 is more stable\")\n",
        "    parser.add_argument(\"--weight_decay\", type=float, default=0.0)\n",
        "    # network\n",
        "    parser.add_argument(\"--norm\", type=str, default=None, choices=[None, \"norm\", \"batch\", \"instance\", \"layer\", \"act\"],\n",
        "                        help=\"norm to add to weights, none works fine\")\n",
        "    # EBM specific\n",
        "    parser.add_argument(\"--n_steps\", type=int, default=20,\n",
        "                        help=\"number of steps of SGLD per iteration, 100 works for short-run, 20 works for PCD\")\n",
        "    parser.add_argument(\"--width\", type=int, default=10, help=\"WideResNet Width\")\n",
        "    parser.add_argument(\"--depth\", type=int, default=28, help=\"WideResNet Depth\")\n",
        "    parser.add_argument(\"--uncond\", action=\"store_true\", help=\"Classifier Parameter\")\n",
        "    parser.add_argument(\"--class_cond_p_x_sample\", action=\"store_true\",\n",
        "                        help=\"Sample from STIC\")\n",
        "    parser.add_argument(\"--buffer_size\", type=int, default=10000)\n",
        "    parser.add_argument(\"--reinit_freq\", type=float, default=.05)\n",
        "    parser.add_argument(\"--sgld_lr\", type=float, default=1.0)\n",
        "    parser.add_argument(\"--sgld_std\", type=float, default=1e-2)\n",
        "    # logging + evaluation\n",
        "    parser.add_argument(\"--save_dir\", type=str, default='./experiment')\n",
        "    parser.add_argument(\"--ckpt_every\", type=int, default=10, help=\"Epochs between checkpoint save\")\n",
        "    parser.add_argument(\"--eval_every\", type=int, default=1, help=\"Epochs between evaluation\")\n",
        "    parser.add_argument(\"--print_every\", type=int, default=100, help=\"Iterations between print\")\n",
        "    parser.add_argument(\"--load_path\", type=str, default=None)\n",
        "    parser.add_argument(\"--print_to_log\", action=\"store_true\", help=\"If true, directs std-out to log file\")\n",
        "    parser.add_argument(\"--plot_cond\", action=\"store_true\", help=\"If set, save class-conditional samples\")\n",
        "    parser.add_argument(\"--plot_uncond\", action=\"store_true\", help=\"If set, save unconditional samples\")\n",
        "    parser.add_argument(\"--n_valid\", type=int, default=5000)\n",
        "\n",
        "    args = parser.parse_args(args=[])\n",
        "    args.n_classes = 10\n",
        "    main(args)"
      ],
      "execution_count": 5,
      "outputs": [
        {
          "output_type": "stream",
          "text": [
            "Files already downloaded and verified\n"
          ],
          "name": "stdout"
        },
        {
          "output_type": "error",
          "ename": "KeyboardInterrupt",
          "evalue": "ignored",
          "traceback": [
            "\u001b[0;31m---------------------------------------------------------------------------\u001b[0m",
            "\u001b[0;31mKeyboardInterrupt\u001b[0m                         Traceback (most recent call last)",
            "\u001b[0;32m<ipython-input-5-e1f1b3b45a3a>\u001b[0m in \u001b[0;36m<module>\u001b[0;34m()\u001b[0m\n\u001b[1;32m     54\u001b[0m     \u001b[0margs\u001b[0m \u001b[0;34m=\u001b[0m \u001b[0mparser\u001b[0m\u001b[0;34m.\u001b[0m\u001b[0mparse_args\u001b[0m\u001b[0;34m(\u001b[0m\u001b[0margs\u001b[0m\u001b[0;34m=\u001b[0m\u001b[0;34m[\u001b[0m\u001b[0;34m]\u001b[0m\u001b[0;34m)\u001b[0m\u001b[0;34m\u001b[0m\u001b[0;34m\u001b[0m\u001b[0m\n\u001b[1;32m     55\u001b[0m     \u001b[0margs\u001b[0m\u001b[0;34m.\u001b[0m\u001b[0mn_classes\u001b[0m \u001b[0;34m=\u001b[0m \u001b[0;36m10\u001b[0m\u001b[0;34m\u001b[0m\u001b[0;34m\u001b[0m\u001b[0m\n\u001b[0;32m---> 56\u001b[0;31m     \u001b[0mmain\u001b[0m\u001b[0;34m(\u001b[0m\u001b[0margs\u001b[0m\u001b[0;34m)\u001b[0m\u001b[0;34m\u001b[0m\u001b[0;34m\u001b[0m\u001b[0m\n\u001b[0m",
            "\u001b[0;32m/content/gdrive/My Drive/Colab Notebooks/JEM-master/stic.py\u001b[0m in \u001b[0;36mmain\u001b[0;34m(args)\u001b[0m\n\u001b[1;32m     56\u001b[0m     \u001b[0mmakedir\u001b[0m\u001b[0;34m(\u001b[0m\u001b[0margs\u001b[0m\u001b[0;34m)\u001b[0m\u001b[0;34m\u001b[0m\u001b[0;34m\u001b[0m\u001b[0m\n\u001b[1;32m     57\u001b[0m \u001b[0;34m\u001b[0m\u001b[0m\n\u001b[0;32m---> 58\u001b[0;31m     \u001b[0mdload_train\u001b[0m\u001b[0;34m,\u001b[0m \u001b[0mdload_train_labeled\u001b[0m\u001b[0;34m,\u001b[0m \u001b[0mdload_valid\u001b[0m\u001b[0;34m,\u001b[0m\u001b[0mdload_test\u001b[0m \u001b[0;34m=\u001b[0m \u001b[0mdataset\u001b[0m\u001b[0;34m(\u001b[0m\u001b[0margs\u001b[0m\u001b[0;34m)\u001b[0m\u001b[0;34m\u001b[0m\u001b[0;34m\u001b[0m\u001b[0m\n\u001b[0m\u001b[1;32m     59\u001b[0m \u001b[0;34m\u001b[0m\u001b[0m\n\u001b[1;32m     60\u001b[0m     \u001b[0mdevice\u001b[0m \u001b[0;34m=\u001b[0m \u001b[0mt\u001b[0m\u001b[0;34m.\u001b[0m\u001b[0mdevice\u001b[0m\u001b[0;34m(\u001b[0m\u001b[0;34m'cuda'\u001b[0m \u001b[0;32mif\u001b[0m \u001b[0mt\u001b[0m\u001b[0;34m.\u001b[0m\u001b[0mcuda\u001b[0m\u001b[0;34m.\u001b[0m\u001b[0mis_available\u001b[0m\u001b[0;34m(\u001b[0m\u001b[0;34m)\u001b[0m \u001b[0;32melse\u001b[0m \u001b[0;34m'cpu'\u001b[0m\u001b[0;34m)\u001b[0m\u001b[0;34m\u001b[0m\u001b[0;34m\u001b[0m\u001b[0m\n",
            "\u001b[0;32m/content/gdrive/My Drive/Colab Notebooks/JEM-master/dataset.py\u001b[0m in \u001b[0;36mdataset\u001b[0;34m(args)\u001b[0m\n\u001b[1;32m     24\u001b[0m \u001b[0;32mdef\u001b[0m \u001b[0mdataset\u001b[0m\u001b[0;34m(\u001b[0m\u001b[0margs\u001b[0m\u001b[0;34m)\u001b[0m\u001b[0;34m:\u001b[0m\u001b[0;34m\u001b[0m\u001b[0;34m\u001b[0m\u001b[0m\n\u001b[1;32m     25\u001b[0m     \u001b[0;31m# datasets\u001b[0m\u001b[0;34m\u001b[0m\u001b[0;34m\u001b[0m\u001b[0;34m\u001b[0m\u001b[0m\n\u001b[0;32m---> 26\u001b[0;31m     \u001b[0mdload_train\u001b[0m\u001b[0;34m,\u001b[0m \u001b[0mdload_train_labeled\u001b[0m\u001b[0;34m,\u001b[0m \u001b[0mdload_valid\u001b[0m\u001b[0;34m,\u001b[0m \u001b[0mdload_test\u001b[0m \u001b[0;34m=\u001b[0m \u001b[0mget_data\u001b[0m\u001b[0;34m(\u001b[0m\u001b[0margs\u001b[0m\u001b[0;34m)\u001b[0m\u001b[0;34m\u001b[0m\u001b[0;34m\u001b[0m\u001b[0m\n\u001b[0m\u001b[1;32m     27\u001b[0m     \u001b[0;32mreturn\u001b[0m \u001b[0mdload_train\u001b[0m\u001b[0;34m,\u001b[0m \u001b[0mdload_train_labeled\u001b[0m\u001b[0;34m,\u001b[0m \u001b[0mdload_valid\u001b[0m\u001b[0;34m,\u001b[0m \u001b[0mdload_test\u001b[0m\u001b[0;34m\u001b[0m\u001b[0;34m\u001b[0m\u001b[0m\n\u001b[1;32m     28\u001b[0m \u001b[0;34m\u001b[0m\u001b[0m\n",
            "\u001b[0;32m/content/gdrive/My Drive/Colab Notebooks/JEM-master/dataset.py\u001b[0m in \u001b[0;36mget_data\u001b[0;34m(args)\u001b[0m\n\u001b[1;32m    104\u001b[0m     \u001b[0mtrain_labeled_inds\u001b[0m \u001b[0;34m=\u001b[0m \u001b[0;34m[\u001b[0m\u001b[0;34m]\u001b[0m\u001b[0;34m\u001b[0m\u001b[0;34m\u001b[0m\u001b[0m\n\u001b[1;32m    105\u001b[0m     \u001b[0mother_inds\u001b[0m \u001b[0;34m=\u001b[0m \u001b[0;34m[\u001b[0m\u001b[0;34m]\u001b[0m\u001b[0;34m\u001b[0m\u001b[0;34m\u001b[0m\u001b[0m\n\u001b[0;32m--> 106\u001b[0;31m     \u001b[0mtrain_labels\u001b[0m \u001b[0;34m=\u001b[0m \u001b[0mnp\u001b[0m\u001b[0;34m.\u001b[0m\u001b[0marray\u001b[0m\u001b[0;34m(\u001b[0m\u001b[0;34m[\u001b[0m\u001b[0mfull_train\u001b[0m\u001b[0;34m[\u001b[0m\u001b[0mind\u001b[0m\u001b[0;34m]\u001b[0m\u001b[0;34m[\u001b[0m\u001b[0;36m1\u001b[0m\u001b[0;34m]\u001b[0m \u001b[0;32mfor\u001b[0m \u001b[0mind\u001b[0m \u001b[0;32min\u001b[0m \u001b[0mtrain_inds\u001b[0m\u001b[0;34m]\u001b[0m\u001b[0;34m)\u001b[0m\u001b[0;34m\u001b[0m\u001b[0;34m\u001b[0m\u001b[0m\n\u001b[0m\u001b[1;32m    107\u001b[0m     \u001b[0;32mif\u001b[0m \u001b[0margs\u001b[0m\u001b[0;34m.\u001b[0m\u001b[0mlabels_per_class\u001b[0m \u001b[0;34m>\u001b[0m \u001b[0;36m0\u001b[0m\u001b[0;34m:\u001b[0m\u001b[0;34m\u001b[0m\u001b[0;34m\u001b[0m\u001b[0m\n\u001b[1;32m    108\u001b[0m         \u001b[0;32mfor\u001b[0m \u001b[0mi\u001b[0m \u001b[0;32min\u001b[0m \u001b[0mrange\u001b[0m\u001b[0;34m(\u001b[0m\u001b[0margs\u001b[0m\u001b[0;34m.\u001b[0m\u001b[0mn_classes\u001b[0m\u001b[0;34m)\u001b[0m\u001b[0;34m:\u001b[0m\u001b[0;34m\u001b[0m\u001b[0;34m\u001b[0m\u001b[0m\n",
            "\u001b[0;32m/content/gdrive/My Drive/Colab Notebooks/JEM-master/dataset.py\u001b[0m in \u001b[0;36m<listcomp>\u001b[0;34m(.0)\u001b[0m\n\u001b[1;32m    104\u001b[0m     \u001b[0mtrain_labeled_inds\u001b[0m \u001b[0;34m=\u001b[0m \u001b[0;34m[\u001b[0m\u001b[0;34m]\u001b[0m\u001b[0;34m\u001b[0m\u001b[0;34m\u001b[0m\u001b[0m\n\u001b[1;32m    105\u001b[0m     \u001b[0mother_inds\u001b[0m \u001b[0;34m=\u001b[0m \u001b[0;34m[\u001b[0m\u001b[0;34m]\u001b[0m\u001b[0;34m\u001b[0m\u001b[0;34m\u001b[0m\u001b[0m\n\u001b[0;32m--> 106\u001b[0;31m     \u001b[0mtrain_labels\u001b[0m \u001b[0;34m=\u001b[0m \u001b[0mnp\u001b[0m\u001b[0;34m.\u001b[0m\u001b[0marray\u001b[0m\u001b[0;34m(\u001b[0m\u001b[0;34m[\u001b[0m\u001b[0mfull_train\u001b[0m\u001b[0;34m[\u001b[0m\u001b[0mind\u001b[0m\u001b[0;34m]\u001b[0m\u001b[0;34m[\u001b[0m\u001b[0;36m1\u001b[0m\u001b[0;34m]\u001b[0m \u001b[0;32mfor\u001b[0m \u001b[0mind\u001b[0m \u001b[0;32min\u001b[0m \u001b[0mtrain_inds\u001b[0m\u001b[0;34m]\u001b[0m\u001b[0;34m)\u001b[0m\u001b[0;34m\u001b[0m\u001b[0;34m\u001b[0m\u001b[0m\n\u001b[0m\u001b[1;32m    107\u001b[0m     \u001b[0;32mif\u001b[0m \u001b[0margs\u001b[0m\u001b[0;34m.\u001b[0m\u001b[0mlabels_per_class\u001b[0m \u001b[0;34m>\u001b[0m \u001b[0;36m0\u001b[0m\u001b[0;34m:\u001b[0m\u001b[0;34m\u001b[0m\u001b[0;34m\u001b[0m\u001b[0m\n\u001b[1;32m    108\u001b[0m         \u001b[0;32mfor\u001b[0m \u001b[0mi\u001b[0m \u001b[0;32min\u001b[0m \u001b[0mrange\u001b[0m\u001b[0;34m(\u001b[0m\u001b[0margs\u001b[0m\u001b[0;34m.\u001b[0m\u001b[0mn_classes\u001b[0m\u001b[0;34m)\u001b[0m\u001b[0;34m:\u001b[0m\u001b[0;34m\u001b[0m\u001b[0;34m\u001b[0m\u001b[0m\n",
            "\u001b[0;32m/usr/local/lib/python3.7/dist-packages/torchvision/datasets/cifar.py\u001b[0m in \u001b[0;36m__getitem__\u001b[0;34m(self, index)\u001b[0m\n\u001b[1;32m    118\u001b[0m \u001b[0;34m\u001b[0m\u001b[0m\n\u001b[1;32m    119\u001b[0m         \u001b[0;32mif\u001b[0m \u001b[0mself\u001b[0m\u001b[0;34m.\u001b[0m\u001b[0mtransform\u001b[0m \u001b[0;32mis\u001b[0m \u001b[0;32mnot\u001b[0m \u001b[0;32mNone\u001b[0m\u001b[0;34m:\u001b[0m\u001b[0;34m\u001b[0m\u001b[0;34m\u001b[0m\u001b[0m\n\u001b[0;32m--> 120\u001b[0;31m             \u001b[0mimg\u001b[0m \u001b[0;34m=\u001b[0m \u001b[0mself\u001b[0m\u001b[0;34m.\u001b[0m\u001b[0mtransform\u001b[0m\u001b[0;34m(\u001b[0m\u001b[0mimg\u001b[0m\u001b[0;34m)\u001b[0m\u001b[0;34m\u001b[0m\u001b[0;34m\u001b[0m\u001b[0m\n\u001b[0m\u001b[1;32m    121\u001b[0m \u001b[0;34m\u001b[0m\u001b[0m\n\u001b[1;32m    122\u001b[0m         \u001b[0;32mif\u001b[0m \u001b[0mself\u001b[0m\u001b[0;34m.\u001b[0m\u001b[0mtarget_transform\u001b[0m \u001b[0;32mis\u001b[0m \u001b[0;32mnot\u001b[0m \u001b[0;32mNone\u001b[0m\u001b[0;34m:\u001b[0m\u001b[0;34m\u001b[0m\u001b[0;34m\u001b[0m\u001b[0m\n",
            "\u001b[0;32m/usr/local/lib/python3.7/dist-packages/torchvision/transforms/transforms.py\u001b[0m in \u001b[0;36m__call__\u001b[0;34m(self, img)\u001b[0m\n\u001b[1;32m     58\u001b[0m     \u001b[0;32mdef\u001b[0m \u001b[0m__call__\u001b[0m\u001b[0;34m(\u001b[0m\u001b[0mself\u001b[0m\u001b[0;34m,\u001b[0m \u001b[0mimg\u001b[0m\u001b[0;34m)\u001b[0m\u001b[0;34m:\u001b[0m\u001b[0;34m\u001b[0m\u001b[0;34m\u001b[0m\u001b[0m\n\u001b[1;32m     59\u001b[0m         \u001b[0;32mfor\u001b[0m \u001b[0mt\u001b[0m \u001b[0;32min\u001b[0m \u001b[0mself\u001b[0m\u001b[0;34m.\u001b[0m\u001b[0mtransforms\u001b[0m\u001b[0;34m:\u001b[0m\u001b[0;34m\u001b[0m\u001b[0;34m\u001b[0m\u001b[0m\n\u001b[0;32m---> 60\u001b[0;31m             \u001b[0mimg\u001b[0m \u001b[0;34m=\u001b[0m \u001b[0mt\u001b[0m\u001b[0;34m(\u001b[0m\u001b[0mimg\u001b[0m\u001b[0;34m)\u001b[0m\u001b[0;34m\u001b[0m\u001b[0;34m\u001b[0m\u001b[0m\n\u001b[0m\u001b[1;32m     61\u001b[0m         \u001b[0;32mreturn\u001b[0m \u001b[0mimg\u001b[0m\u001b[0;34m\u001b[0m\u001b[0;34m\u001b[0m\u001b[0m\n\u001b[1;32m     62\u001b[0m \u001b[0;34m\u001b[0m\u001b[0m\n",
            "\u001b[0;31mKeyboardInterrupt\u001b[0m: "
          ]
        }
      ]
    }
  ]
}